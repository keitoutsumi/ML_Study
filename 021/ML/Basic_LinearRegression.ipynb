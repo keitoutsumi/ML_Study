{
 "cells": [
  {
   "cell_type": "code",
   "execution_count": 3,
   "metadata": {},
   "outputs": [],
   "source": [
    "%matplotlib inline\n",
    "import numpy as np\n",
    "import matplotlib.pyplot as plt\n",
    "font = {'family':'IPAexGothic'}\n",
    "plt.rc('font', **font)"
   ]
  },
  {
   "cell_type": "code",
   "execution_count": null,
   "metadata": {},
   "outputs": [],
   "source": [
    "X = np.array([4.5, 5, 4.5, 5.5, 5.8, 6, 7, 7, 7.2, 8, 8.2, 10, 11, 11.8, 12, 13, 13.5, 14, 14.2, 15, 15.2, 16, 17, 21, 23])\n",
    "y = np.array([3, 4, 10, 9, 11, 7, 4.5, 10, 13, 12, 11, 17, 15, 22, 14, 21, 14, 15, 16, 28, 30, 18, 20, 22, 26])"
   ]
  }
 ],
 "metadata": {
  "kernelspec": {
   "display_name": "Python 3",
   "language": "python",
   "name": "python3"
  },
  "language_info": {
   "codemirror_mode": {
    "name": "ipython",
    "version": 3
   },
   "file_extension": ".py",
   "mimetype": "text/x-python",
   "name": "python",
   "nbconvert_exporter": "python",
   "pygments_lexer": "ipython3",
   "version": "3.8.16"
  },
  "orig_nbformat": 4,
  "vscode": {
   "interpreter": {
    "hash": "46cf4e5fa65fb544864039c16e7a28fe229dbd8e55667e7e616271b9d3556be4"
   }
  }
 },
 "nbformat": 4,
 "nbformat_minor": 2
}
